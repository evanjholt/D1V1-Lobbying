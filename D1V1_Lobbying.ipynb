{
  "nbformat": 4,
  "nbformat_minor": 0,
  "metadata": {
    "colab": {
      "provenance": [],
      "authorship_tag": "ABX9TyO/t1NfUWJjjbRnkFYcn7vO",
      "include_colab_link": true
    },
    "kernelspec": {
      "name": "python3",
      "display_name": "Python 3"
    },
    "language_info": {
      "name": "python"
    },
    "widgets": {
      "application/vnd.jupyter.widget-state+json": {
        "d2de1542b01243fd980a985ecd2c03cd": {
          "model_module": "@jupyter-widgets/controls",
          "model_name": "DropdownModel",
          "model_module_version": "1.5.0",
          "state": {
            "_dom_classes": [],
            "_model_module": "@jupyter-widgets/controls",
            "_model_module_version": "1.5.0",
            "_model_name": "DropdownModel",
            "_options_labels": [
              "Registration_BeneficiariesExport.csv",
              "Registration_CommunicationTechniquesExport.csv",
              "Registration_ConsultantLobbyistsExport.csv",
              "Registration_GovtFundingExport.csv",
              "Registration_GovernmentInstExport.csv",
              "Registration_InHouseLobbyistsExport.csv",
              "Registration_ManuallyEntered_GovernmentInstExport.csv",
              "Registration_PrimaryExport.csv",
              "Registration_PublicOfficeExport.csv",
              "Registration_SubjectMatterDetailsExport.csv",
              "Registration_SubjectMattersExport.csv",
              "Codes_SubjectMatterCategoriesExport.csv",
              "Codes_SubjectMatterTypesExport.csv"
            ],
            "_view_count": null,
            "_view_module": "@jupyter-widgets/controls",
            "_view_module_version": "1.5.0",
            "_view_name": "DropdownView",
            "description": "Select a table to preview:",
            "description_tooltip": null,
            "disabled": false,
            "index": 0,
            "layout": "IPY_MODEL_f4d296f5139a4960b554aa3da1442048",
            "style": "IPY_MODEL_23b60eabd449446c9c896119e6404b25"
          }
        },
        "f4d296f5139a4960b554aa3da1442048": {
          "model_module": "@jupyter-widgets/base",
          "model_name": "LayoutModel",
          "model_module_version": "1.2.0",
          "state": {
            "_model_module": "@jupyter-widgets/base",
            "_model_module_version": "1.2.0",
            "_model_name": "LayoutModel",
            "_view_count": null,
            "_view_module": "@jupyter-widgets/base",
            "_view_module_version": "1.2.0",
            "_view_name": "LayoutView",
            "align_content": null,
            "align_items": null,
            "align_self": null,
            "border": null,
            "bottom": null,
            "display": null,
            "flex": null,
            "flex_flow": null,
            "grid_area": null,
            "grid_auto_columns": null,
            "grid_auto_flow": null,
            "grid_auto_rows": null,
            "grid_column": null,
            "grid_gap": null,
            "grid_row": null,
            "grid_template_areas": null,
            "grid_template_columns": null,
            "grid_template_rows": null,
            "height": null,
            "justify_content": null,
            "justify_items": null,
            "left": null,
            "margin": null,
            "max_height": null,
            "max_width": null,
            "min_height": null,
            "min_width": null,
            "object_fit": null,
            "object_position": null,
            "order": null,
            "overflow": null,
            "overflow_x": null,
            "overflow_y": null,
            "padding": null,
            "right": null,
            "top": null,
            "visibility": null,
            "width": "max-content"
          }
        },
        "23b60eabd449446c9c896119e6404b25": {
          "model_module": "@jupyter-widgets/controls",
          "model_name": "DescriptionStyleModel",
          "model_module_version": "1.5.0",
          "state": {
            "_model_module": "@jupyter-widgets/controls",
            "_model_module_version": "1.5.0",
            "_model_name": "DescriptionStyleModel",
            "_view_count": null,
            "_view_module": "@jupyter-widgets/base",
            "_view_module_version": "1.2.0",
            "_view_name": "StyleView",
            "description_width": "initial"
          }
        },
        "bfd84e3d2f744521a0875723bf096fb2": {
          "model_module": "@jupyter-widgets/output",
          "model_name": "OutputModel",
          "model_module_version": "1.0.0",
          "state": {
            "_dom_classes": [],
            "_model_module": "@jupyter-widgets/output",
            "_model_module_version": "1.0.0",
            "_model_name": "OutputModel",
            "_view_count": null,
            "_view_module": "@jupyter-widgets/output",
            "_view_module_version": "1.0.0",
            "_view_name": "OutputView",
            "layout": "IPY_MODEL_ef8bc19de00b4e1a9e231256ed40c406",
            "msg_id": "",
            "outputs": [
              {
                "output_type": "stream",
                "name": "stdout",
                "text": [
                  "\n",
                  "--- Previewing 'Registration_BeneficiariesExport.csv' ---\n",
                  "Shape: 217466 rows, 10 columns\n",
                  "\n",
                  "[Columns and Data Types]\n",
                  "<class 'pandas.core.frame.DataFrame'>\n",
                  "RangeIndex: 217466 entries, 0 to 217465\n",
                  "Columns: 10 entries, REG_ID_ENR to COUNTRY_PAYS\n",
                  "dtypes: int64(2), object(8)\n",
                  "memory usage: 16.6+ MB\n",
                  "\n",
                  "[First 10 Rows]\n"
                ]
              },
              {
                "output_type": "display_data",
                "data": {
                  "text/plain": "   REG_ID_ENR  BNF_TYPE                           EN_BNF_NM_AN FR_BNF_NM  \\\n0      506362         1                   SALT INSTITUTE (THE)       NaN   \n1      482138         1                   SALT INSTITUTE (THE)       NaN   \n2      512122         1                   SALT INSTITUTE (THE)       NaN   \n3      510395         1                   SALT INSTITUTE (THE)       NaN   \n4      480053         1                   SALT INSTITUTE (THE)       NaN   \n5      503354         1                   SALT INSTITUTE (THE)       NaN   \n6      499089         1                   SALT INSTITUTE (THE)       NaN   \n7      504646         2  CANADIAN SOLAR INDUSTRIES ASSOCIATION       NaN   \n8      482393         2  CANADIAN SOLAR INDUSTRIES ASSOCIATION       NaN   \n9      500370         2  CANADIAN SOLAR INDUSTRIES ASSOCIATION       NaN   \n\n                    STREET_RUE_1 STREET_RUE_2  CITY_VILLE POST_CODE_POSTAL  \\\n0  600- 700 NORTH FAIRFAX STREET          NaN  ALEXANDRIA       22314        \n1  600- 700 NORTH FAIRFAX STREET          NaN  ALEXANDRIA       22314        \n2  600- 700 NORTH FAIRFAX STREET          NaN  ALEXANDRIA       22314        \n3  600- 700 NORTH FAIRFAX STREET          NaN  ALEXANDRIA       22314        \n4  600- 700 NORTH FAIRFAX STREET          NaN  ALEXANDRIA       22314        \n5  600- 700 NORTH FAIRFAX STREET          NaN  ALEXANDRIA       22314        \n6  600- 700 NORTH FAIRFAX STREET          NaN  ALEXANDRIA       22314        \n7          250 - 2415 HOLLY LANE          NaN      OTTAWA       K1V 7P2      \n8          250 - 2415 HOLLY LANE          NaN      OTTAWA       K1V 7P2      \n9          250 - 2415 HOLLY LANE          NaN      OTTAWA       K1V 7P2      \n\n  PROV_STATE_PROV_ETAT COUNTRY_PAYS  \n0                   VA          USA  \n1                   VA          USA  \n2                   VA          USA  \n3                   VA          USA  \n4                   VA          USA  \n5                   VA          USA  \n6                   VA          USA  \n7                   ON          CAN  \n8                   ON          CAN  \n9                   ON          CAN  ",
                  "text/html": "\n  <div id=\"df-aa889a17-3750-4a32-ad5a-aac5ebc764ee\" class=\"colab-df-container\">\n    <div>\n<style scoped>\n    .dataframe tbody tr th:only-of-type {\n        vertical-align: middle;\n    }\n\n    .dataframe tbody tr th {\n        vertical-align: top;\n    }\n\n    .dataframe thead th {\n        text-align: right;\n    }\n</style>\n<table border=\"1\" class=\"dataframe\">\n  <thead>\n    <tr style=\"text-align: right;\">\n      <th></th>\n      <th>REG_ID_ENR</th>\n      <th>BNF_TYPE</th>\n      <th>EN_BNF_NM_AN</th>\n      <th>FR_BNF_NM</th>\n      <th>STREET_RUE_1</th>\n      <th>STREET_RUE_2</th>\n      <th>CITY_VILLE</th>\n      <th>POST_CODE_POSTAL</th>\n      <th>PROV_STATE_PROV_ETAT</th>\n      <th>COUNTRY_PAYS</th>\n    </tr>\n  </thead>\n  <tbody>\n    <tr>\n      <th>0</th>\n      <td>506362</td>\n      <td>1</td>\n      <td>SALT INSTITUTE (THE)</td>\n      <td>NaN</td>\n      <td>600- 700 NORTH FAIRFAX STREET</td>\n      <td>NaN</td>\n      <td>ALEXANDRIA</td>\n      <td>22314</td>\n      <td>VA</td>\n      <td>USA</td>\n    </tr>\n    <tr>\n      <th>1</th>\n      <td>482138</td>\n      <td>1</td>\n      <td>SALT INSTITUTE (THE)</td>\n      <td>NaN</td>\n      <td>600- 700 NORTH FAIRFAX STREET</td>\n      <td>NaN</td>\n      <td>ALEXANDRIA</td>\n      <td>22314</td>\n      <td>VA</td>\n      <td>USA</td>\n    </tr>\n    <tr>\n      <th>2</th>\n      <td>512122</td>\n      <td>1</td>\n      <td>SALT INSTITUTE (THE)</td>\n      <td>NaN</td>\n      <td>600- 700 NORTH FAIRFAX STREET</td>\n      <td>NaN</td>\n      <td>ALEXANDRIA</td>\n      <td>22314</td>\n      <td>VA</td>\n      <td>USA</td>\n    </tr>\n    <tr>\n      <th>3</th>\n      <td>510395</td>\n      <td>1</td>\n      <td>SALT INSTITUTE (THE)</td>\n      <td>NaN</td>\n      <td>600- 700 NORTH FAIRFAX STREET</td>\n      <td>NaN</td>\n      <td>ALEXANDRIA</td>\n      <td>22314</td>\n      <td>VA</td>\n      <td>USA</td>\n    </tr>\n    <tr>\n      <th>4</th>\n      <td>480053</td>\n      <td>1</td>\n      <td>SALT INSTITUTE (THE)</td>\n      <td>NaN</td>\n      <td>600- 700 NORTH FAIRFAX STREET</td>\n      <td>NaN</td>\n      <td>ALEXANDRIA</td>\n      <td>22314</td>\n      <td>VA</td>\n      <td>USA</td>\n    </tr>\n    <tr>\n      <th>5</th>\n      <td>503354</td>\n      <td>1</td>\n      <td>SALT INSTITUTE (THE)</td>\n      <td>NaN</td>\n      <td>600- 700 NORTH FAIRFAX STREET</td>\n      <td>NaN</td>\n      <td>ALEXANDRIA</td>\n      <td>22314</td>\n      <td>VA</td>\n      <td>USA</td>\n    </tr>\n    <tr>\n      <th>6</th>\n      <td>499089</td>\n      <td>1</td>\n      <td>SALT INSTITUTE (THE)</td>\n      <td>NaN</td>\n      <td>600- 700 NORTH FAIRFAX STREET</td>\n      <td>NaN</td>\n      <td>ALEXANDRIA</td>\n      <td>22314</td>\n      <td>VA</td>\n      <td>USA</td>\n    </tr>\n    <tr>\n      <th>7</th>\n      <td>504646</td>\n      <td>2</td>\n      <td>CANADIAN SOLAR INDUSTRIES ASSOCIATION</td>\n      <td>NaN</td>\n      <td>250 - 2415 HOLLY LANE</td>\n      <td>NaN</td>\n      <td>OTTAWA</td>\n      <td>K1V 7P2</td>\n      <td>ON</td>\n      <td>CAN</td>\n    </tr>\n    <tr>\n      <th>8</th>\n      <td>482393</td>\n      <td>2</td>\n      <td>CANADIAN SOLAR INDUSTRIES ASSOCIATION</td>\n      <td>NaN</td>\n      <td>250 - 2415 HOLLY LANE</td>\n      <td>NaN</td>\n      <td>OTTAWA</td>\n      <td>K1V 7P2</td>\n      <td>ON</td>\n      <td>CAN</td>\n    </tr>\n    <tr>\n      <th>9</th>\n      <td>500370</td>\n      <td>2</td>\n      <td>CANADIAN SOLAR INDUSTRIES ASSOCIATION</td>\n      <td>NaN</td>\n      <td>250 - 2415 HOLLY LANE</td>\n      <td>NaN</td>\n      <td>OTTAWA</td>\n      <td>K1V 7P2</td>\n      <td>ON</td>\n      <td>CAN</td>\n    </tr>\n  </tbody>\n</table>\n</div>\n    <div class=\"colab-df-buttons\">\n\n  <div class=\"colab-df-container\">\n    <button class=\"colab-df-convert\" onclick=\"convertToInteractive('df-aa889a17-3750-4a32-ad5a-aac5ebc764ee')\"\n            title=\"Convert this dataframe to an interactive table.\"\n            style=\"display:none;\">\n\n  <svg xmlns=\"http://www.w3.org/2000/svg\" height=\"24px\" viewBox=\"0 -960 960 960\">\n    <path d=\"M120-120v-720h720v720H120Zm60-500h600v-160H180v160Zm220 220h160v-160H400v160Zm0 220h160v-160H400v160ZM180-400h160v-160H180v160Zm440 0h160v-160H620v160ZM180-180h160v-160H180v160Zm440 0h160v-160H620v160Z\"/>\n  </svg>\n    </button>\n\n  <style>\n    .colab-df-container {\n      display:flex;\n      gap: 12px;\n    }\n\n    .colab-df-convert {\n      background-color: #E8F0FE;\n      border: none;\n      border-radius: 50%;\n      cursor: pointer;\n      display: none;\n      fill: #1967D2;\n      height: 32px;\n      padding: 0 0 0 0;\n      width: 32px;\n    }\n\n    .colab-df-convert:hover {\n      background-color: #E2EBFA;\n      box-shadow: 0px 1px 2px rgba(60, 64, 67, 0.3), 0px 1px 3px 1px rgba(60, 64, 67, 0.15);\n      fill: #174EA6;\n    }\n\n    .colab-df-buttons div {\n      margin-bottom: 4px;\n    }\n\n    [theme=dark] .colab-df-convert {\n      background-color: #3B4455;\n      fill: #D2E3FC;\n    }\n\n    [theme=dark] .colab-df-convert:hover {\n      background-color: #434B5C;\n      box-shadow: 0px 1px 3px 1px rgba(0, 0, 0, 0.15);\n      filter: drop-shadow(0px 1px 2px rgba(0, 0, 0, 0.3));\n      fill: #FFFFFF;\n    }\n  </style>\n\n    <script>\n      const buttonEl =\n        document.querySelector('#df-aa889a17-3750-4a32-ad5a-aac5ebc764ee button.colab-df-convert');\n      buttonEl.style.display =\n        google.colab.kernel.accessAllowed ? 'block' : 'none';\n\n      async function convertToInteractive(key) {\n        const element = document.querySelector('#df-aa889a17-3750-4a32-ad5a-aac5ebc764ee');\n        const dataTable =\n          await google.colab.kernel.invokeFunction('convertToInteractive',\n                                                    [key], {});\n        if (!dataTable) return;\n\n        const docLinkHtml = 'Like what you see? Visit the ' +\n          '<a target=\"_blank\" href=https://colab.research.google.com/notebooks/data_table.ipynb>data table notebook</a>'\n          + ' to learn more about interactive tables.';\n        element.innerHTML = '';\n        dataTable['output_type'] = 'display_data';\n        await google.colab.output.renderOutput(dataTable, element);\n        const docLink = document.createElement('div');\n        docLink.innerHTML = docLinkHtml;\n        element.appendChild(docLink);\n      }\n    </script>\n  </div>\n\n\n    <div id=\"df-b7256efd-dc4c-4caf-a9ca-66bf2d478d51\">\n      <button class=\"colab-df-quickchart\" onclick=\"quickchart('df-b7256efd-dc4c-4caf-a9ca-66bf2d478d51')\"\n                title=\"Suggest charts\"\n                style=\"display:none;\">\n\n<svg xmlns=\"http://www.w3.org/2000/svg\" height=\"24px\"viewBox=\"0 0 24 24\"\n     width=\"24px\">\n    <g>\n        <path d=\"M19 3H5c-1.1 0-2 .9-2 2v14c0 1.1.9 2 2 2h14c1.1 0 2-.9 2-2V5c0-1.1-.9-2-2-2zM9 17H7v-7h2v7zm4 0h-2V7h2v10zm4 0h-2v-4h2v4z\"/>\n    </g>\n</svg>\n      </button>\n\n<style>\n  .colab-df-quickchart {\n      --bg-color: #E8F0FE;\n      --fill-color: #1967D2;\n      --hover-bg-color: #E2EBFA;\n      --hover-fill-color: #174EA6;\n      --disabled-fill-color: #AAA;\n      --disabled-bg-color: #DDD;\n  }\n\n  [theme=dark] .colab-df-quickchart {\n      --bg-color: #3B4455;\n      --fill-color: #D2E3FC;\n      --hover-bg-color: #434B5C;\n      --hover-fill-color: #FFFFFF;\n      --disabled-bg-color: #3B4455;\n      --disabled-fill-color: #666;\n  }\n\n  .colab-df-quickchart {\n    background-color: var(--bg-color);\n    border: none;\n    border-radius: 50%;\n    cursor: pointer;\n    display: none;\n    fill: var(--fill-color);\n    height: 32px;\n    padding: 0;\n    width: 32px;\n  }\n\n  .colab-df-quickchart:hover {\n    background-color: var(--hover-bg-color);\n    box-shadow: 0 1px 2px rgba(60, 64, 67, 0.3), 0 1px 3px 1px rgba(60, 64, 67, 0.15);\n    fill: var(--button-hover-fill-color);\n  }\n\n  .colab-df-quickchart-complete:disabled,\n  .colab-df-quickchart-complete:disabled:hover {\n    background-color: var(--disabled-bg-color);\n    fill: var(--disabled-fill-color);\n    box-shadow: none;\n  }\n\n  .colab-df-spinner {\n    border: 2px solid var(--fill-color);\n    border-color: transparent;\n    border-bottom-color: var(--fill-color);\n    animation:\n      spin 1s steps(1) infinite;\n  }\n\n  @keyframes spin {\n    0% {\n      border-color: transparent;\n      border-bottom-color: var(--fill-color);\n      border-left-color: var(--fill-color);\n    }\n    20% {\n      border-color: transparent;\n      border-left-color: var(--fill-color);\n      border-top-color: var(--fill-color);\n    }\n    30% {\n      border-color: transparent;\n      border-left-color: var(--fill-color);\n      border-top-color: var(--fill-color);\n      border-right-color: var(--fill-color);\n    }\n    40% {\n      border-color: transparent;\n      border-right-color: var(--fill-color);\n      border-top-color: var(--fill-color);\n    }\n    60% {\n      border-color: transparent;\n      border-right-color: var(--fill-color);\n    }\n    80% {\n      border-color: transparent;\n      border-right-color: var(--fill-color);\n      border-bottom-color: var(--fill-color);\n    }\n    90% {\n      border-color: transparent;\n      border-bottom-color: var(--fill-color);\n    }\n  }\n</style>\n\n      <script>\n        async function quickchart(key) {\n          const quickchartButtonEl =\n            document.querySelector('#' + key + ' button');\n          quickchartButtonEl.disabled = true;  // To prevent multiple clicks.\n          quickchartButtonEl.classList.add('colab-df-spinner');\n          try {\n            const charts = await google.colab.kernel.invokeFunction(\n                'suggestCharts', [key], {});\n          } catch (error) {\n            console.error('Error during call to suggestCharts:', error);\n          }\n          quickchartButtonEl.classList.remove('colab-df-spinner');\n          quickchartButtonEl.classList.add('colab-df-quickchart-complete');\n        }\n        (() => {\n          let quickchartButtonEl =\n            document.querySelector('#df-b7256efd-dc4c-4caf-a9ca-66bf2d478d51 button');\n          quickchartButtonEl.style.display =\n            google.colab.kernel.accessAllowed ? 'block' : 'none';\n        })();\n      </script>\n    </div>\n\n    </div>\n  </div>\n",
                  "application/vnd.google.colaboratory.intrinsic+json": {
                    "type": "dataframe",
                    "repr_error": "Out of range float values are not JSON compliant: nan"
                  }
                },
                "metadata": {}
              }
            ]
          }
        },
        "ef8bc19de00b4e1a9e231256ed40c406": {
          "model_module": "@jupyter-widgets/base",
          "model_name": "LayoutModel",
          "model_module_version": "1.2.0",
          "state": {
            "_model_module": "@jupyter-widgets/base",
            "_model_module_version": "1.2.0",
            "_model_name": "LayoutModel",
            "_view_count": null,
            "_view_module": "@jupyter-widgets/base",
            "_view_module_version": "1.2.0",
            "_view_name": "LayoutView",
            "align_content": null,
            "align_items": null,
            "align_self": null,
            "border": null,
            "bottom": null,
            "display": null,
            "flex": null,
            "flex_flow": null,
            "grid_area": null,
            "grid_auto_columns": null,
            "grid_auto_flow": null,
            "grid_auto_rows": null,
            "grid_column": null,
            "grid_gap": null,
            "grid_row": null,
            "grid_template_areas": null,
            "grid_template_columns": null,
            "grid_template_rows": null,
            "height": null,
            "justify_content": null,
            "justify_items": null,
            "left": null,
            "margin": null,
            "max_height": null,
            "max_width": null,
            "min_height": null,
            "min_width": null,
            "object_fit": null,
            "object_position": null,
            "order": null,
            "overflow": null,
            "overflow_x": null,
            "overflow_y": null,
            "padding": null,
            "right": null,
            "top": null,
            "visibility": null,
            "width": null
          }
        }
      }
    }
  },
  "cells": [
    {
      "cell_type": "markdown",
      "metadata": {
        "id": "view-in-github",
        "colab_type": "text"
      },
      "source": [
        "<a href=\"https://colab.research.google.com/github/evanjholt/D1V1-Lobbying/blob/main/D1V1_Lobbying.ipynb\" target=\"_parent\"><img src=\"https://colab.research.google.com/assets/colab-badge.svg\" alt=\"Open In Colab\"/></a>"
      ]
    },
    {
      "cell_type": "code",
      "source": [
        "import requests\n",
        "from zipfile import ZipFile\n",
        "from io import BytesIO\n",
        "import pandas as pd\n",
        "import ipywidgets as widgets  # <-- CORRECTED IMPORT\n",
        "from IPython.display import display, clear_output\n",
        "\n",
        "# --- Function to load all data from the web ---\n",
        "def load_all_lobbying_data():\n",
        "    zip_url = 'https://lobbycanada.gc.ca/media/zwcjycef/registrations_enregistrements_ocl_cal.zip'\n",
        "    print(f\"-> Downloading data from: {zip_url}\")\n",
        "    try:\n",
        "        zip_response = requests.get(zip_url)\n",
        "        zip_response.raise_for_status()\n",
        "        print(\"✅ Download complete.\")\n",
        "    except requests.exceptions.RequestException as e:\n",
        "        print(f\"Error downloading ZIP file: {e}\")\n",
        "        return None\n",
        "\n",
        "    print(\"-> Extracting all CSV files into DataFrames...\")\n",
        "    dataframes = {}\n",
        "    with ZipFile(BytesIO(zip_response.content)) as zip_file:\n",
        "        for file_name in zip_file.namelist():\n",
        "            if file_name.endswith('.csv'):\n",
        "                with zip_file.open(file_name) as csv_file:\n",
        "                    df = pd.read_csv(csv_file, encoding='latin1', low_memory=False)\n",
        "                    dataframes[file_name] = df\n",
        "    print(\"✅ All datasets loaded into memory.\")\n",
        "    return dataframes\n",
        "\n",
        "# --- Create the interactive explorer ---\n",
        "def create_explorer(dataframes):\n",
        "    table_names = list(dataframes.keys())\n",
        "\n",
        "    # Create a dropdown widget using the correct library\n",
        "    dropdown = widgets.Dropdown(\n",
        "        options=table_names,\n",
        "        description='Select a table to preview:',\n",
        "        style={'description_width': 'initial'},\n",
        "        layout={'width': 'max-content'}\n",
        "    )\n",
        "\n",
        "    # Function to display table info when dropdown changes\n",
        "    def on_change(change):\n",
        "        if change['type'] == 'change' and change['new']:\n",
        "            table_name = change['new']\n",
        "            df = dataframes[table_name]\n",
        "\n",
        "            # Clear previous output and display new info\n",
        "            with out:\n",
        "                clear_output(wait=True)\n",
        "                print(f\"\\n--- Previewing '{table_name}' ---\")\n",
        "                print(f\"Shape: {df.shape[0]} rows, {df.shape[1]} columns\")\n",
        "\n",
        "                print(\"\\n[Columns and Data Types]\")\n",
        "                df.info(verbose=False) # Concise info\n",
        "\n",
        "                print(\"\\n[First 10 Rows]\")\n",
        "                display(df.head(10))\n",
        "\n",
        "    dropdown.observe(on_change, names='value')\n",
        "\n",
        "    # Display the dropdown and the output area\n",
        "    out = widgets.Output()\n",
        "    display(dropdown, out)\n",
        "\n",
        "    # Trigger the display for the first item initially\n",
        "    on_change({'type': 'change', 'new': table_names[0]})\n",
        "\n",
        "# --- Main Execution ---\n",
        "all_data = load_all_lobbying_data()\n",
        "if all_data:\n",
        "    create_explorer(all_data)\n",
        "else:\n",
        "    print(\"Could not load data. Please try running the cell again.\")"
      ],
      "metadata": {
        "colab": {
          "base_uri": "https://localhost:8080/",
          "height": 673,
          "referenced_widgets": [
            "d2de1542b01243fd980a985ecd2c03cd",
            "f4d296f5139a4960b554aa3da1442048",
            "23b60eabd449446c9c896119e6404b25",
            "bfd84e3d2f744521a0875723bf096fb2",
            "ef8bc19de00b4e1a9e231256ed40c406"
          ]
        },
        "id": "Cgz1F_Ewt5Dg",
        "outputId": "7851dc48-0f72-4b45-c515-e8141ee3d84e"
      },
      "execution_count": 1,
      "outputs": [
        {
          "output_type": "stream",
          "name": "stdout",
          "text": [
            "-> Downloading data from: https://lobbycanada.gc.ca/media/zwcjycef/registrations_enregistrements_ocl_cal.zip\n",
            "✅ Download complete.\n",
            "-> Extracting all CSV files into DataFrames...\n",
            "✅ All datasets loaded into memory.\n"
          ]
        },
        {
          "output_type": "display_data",
          "data": {
            "text/plain": [
              "Dropdown(description='Select a table to preview:', layout=Layout(width='max-content'), options=('Registration_…"
            ],
            "application/vnd.jupyter.widget-view+json": {
              "version_major": 2,
              "version_minor": 0,
              "model_id": "d2de1542b01243fd980a985ecd2c03cd"
            }
          },
          "metadata": {}
        },
        {
          "output_type": "display_data",
          "data": {
            "text/plain": [
              "Output()"
            ],
            "application/vnd.jupyter.widget-view+json": {
              "version_major": 2,
              "version_minor": 0,
              "model_id": "bfd84e3d2f744521a0875723bf096fb2"
            }
          },
          "metadata": {}
        }
      ]
    }
  ]
}